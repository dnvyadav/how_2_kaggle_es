{
 "cells": [
  {
   "cell_type": "code",
   "execution_count": 1,
   "metadata": {
    "collapsed": true
   },
   "outputs": [],
   "source": [
    "import ast, numpy, random, requests, json, operator\n",
    "import pylab as plt\n",
    "from pyelasticsearch.client import ElasticSearch"
   ]
  },
  {
   "cell_type": "code",
   "execution_count": 42,
   "metadata": {
    "collapsed": true
   },
   "outputs": [],
   "source": [
    "data_file = open('data/train.json', 'r')\n",
    "train_recipes = ast.literal_eval(data_file.read())\n",
    "data_file = open('data/test.json', 'r')\n",
    "test_recipes = ast.literal_eval(data_file.read())"
   ]
  },
  {
   "cell_type": "code",
   "execution_count": 44,
   "metadata": {
    "collapsed": false
   },
   "outputs": [
    {
     "name": "stdout",
     "output_type": "stream",
     "text": [
      "39774\n"
     ]
    }
   ],
   "source": [
    "nb_train_recipes = len(train_recipes)\n",
    "print nb_train_recipes"
   ]
  },
  {
   "cell_type": "code",
   "execution_count": 45,
   "metadata": {
    "collapsed": false
   },
   "outputs": [
    {
     "name": "stdout",
     "output_type": "stream",
     "text": [
      "{'irish': 667, 'mexican': 6438, 'chinese': 2673, 'filipino': 755, 'vietnamese': 825, 'moroccan': 821, 'brazilian': 467, 'japanese': 1423, 'british': 804, 'greek': 1175, 'indian': 3003, 'jamaican': 526, 'french': 2646, 'spanish': 989, 'russian': 489, 'cajun_creole': 1546, 'thai': 1539, 'southern_us': 4320, 'korean': 830, 'italian': 7838}\n"
     ]
    }
   ],
   "source": [
    "def get_cuisine_distribution(recipes):\n",
    "    cuisine_distribution = {}\n",
    "    for recipe in recipes:\n",
    "        if recipe['cuisine'] in cuisine_distribution:\n",
    "            cuisine_distribution[recipe['cuisine']] += 1\n",
    "        else:\n",
    "            cuisine_distribution[recipe['cuisine']] = 1\n",
    "\n",
    "    print cuisine_distribution\n",
    "    for cuisine in cuisine_distribution:\n",
    "        cuisine_distribution[cuisine] =  float(cuisine_distribution[cuisine])/float(len(recipes))\n",
    "    return cuisine_distribution\n",
    "\n",
    "CUISINE_DISTRIBUTION = get_cuisine_distribution(train_recipes)"
   ]
  },
  {
   "cell_type": "code",
   "execution_count": 28,
   "metadata": {
    "collapsed": false
   },
   "outputs": [
    {
     "ename": "NameError",
     "evalue": "name 'cuisine_distribution' is not defined",
     "output_type": "error",
     "traceback": [
      "\u001b[0;31m---------------------------------------------------------------------------\u001b[0m",
      "\u001b[0;31mNameError\u001b[0m                                 Traceback (most recent call last)",
      "\u001b[0;32m<ipython-input-28-808bbfa41fa6>\u001b[0m in \u001b[0;36m<module>\u001b[0;34m()\u001b[0m\n\u001b[0;32m----> 1\u001b[0;31m \u001b[0mplt\u001b[0m\u001b[0;34m.\u001b[0m\u001b[0mbar\u001b[0m\u001b[0;34m(\u001b[0m\u001b[0mrange\u001b[0m\u001b[0;34m(\u001b[0m\u001b[0mlen\u001b[0m\u001b[0;34m(\u001b[0m\u001b[0mcuisine_distribution\u001b[0m\u001b[0;34m)\u001b[0m\u001b[0;34m)\u001b[0m\u001b[0;34m,\u001b[0m \u001b[0mcuisine_distribution\u001b[0m\u001b[0;34m.\u001b[0m\u001b[0mvalues\u001b[0m\u001b[0;34m(\u001b[0m\u001b[0;34m)\u001b[0m\u001b[0;34m)\u001b[0m\u001b[0;34m\u001b[0m\u001b[0m\n\u001b[0m\u001b[1;32m      2\u001b[0m \u001b[0mplt\u001b[0m\u001b[0;34m.\u001b[0m\u001b[0mxticks\u001b[0m\u001b[0;34m(\u001b[0m\u001b[0mrange\u001b[0m\u001b[0;34m(\u001b[0m\u001b[0mlen\u001b[0m\u001b[0;34m(\u001b[0m\u001b[0mcuisine_distribution\u001b[0m\u001b[0;34m)\u001b[0m\u001b[0;34m)\u001b[0m\u001b[0;34m,\u001b[0m \u001b[0mcuisine_distribution\u001b[0m\u001b[0;34m.\u001b[0m\u001b[0mkeys\u001b[0m\u001b[0;34m(\u001b[0m\u001b[0;34m)\u001b[0m\u001b[0;34m)\u001b[0m\u001b[0;34m\u001b[0m\u001b[0m\n\u001b[1;32m      3\u001b[0m \u001b[0mplt\u001b[0m\u001b[0;34m.\u001b[0m\u001b[0mshow\u001b[0m\u001b[0;34m(\u001b[0m\u001b[0;34m)\u001b[0m\u001b[0;34m\u001b[0m\u001b[0m\n",
      "\u001b[0;31mNameError\u001b[0m: name 'cuisine_distribution' is not defined"
     ]
    }
   ],
   "source": [
    "plt.bar(range(len(cuisine_distribution)), cuisine_distribution.values())\n",
    "plt.xticks(range(len(cuisine_distribution)), cuisine_distribution.keys())\n",
    "plt.show()"
   ]
  },
  {
   "cell_type": "code",
   "execution_count": 5,
   "metadata": {
    "collapsed": false
   },
   "outputs": [],
   "source": [
    "random_recipes_test = []\n",
    "for generated_test_nb in range(0, nb_train_recipes/4):\n",
    "    recipe = random.choice(train_recipes)\n",
    "    while recipe in random_recipes_test:\n",
    "        recipe = random.choice(train_recipes)\n",
    "    random_recipes_test.append(recipe)\n",
    "\n",
    "random_recipes_train = []\n",
    "for recipe in train_recipes:\n",
    "    if recipe not in random_recipes_test:\n",
    "        random_recipes_train.append(recipe)"
   ]
  },
  {
   "cell_type": "code",
   "execution_count": 225,
   "metadata": {
    "collapsed": false
   },
   "outputs": [
    {
     "name": "stdout",
     "output_type": "stream",
     "text": [
      "{'british': 142, 'irish': 125, 'mexican': 1214, 'filipino': 145, 'chinese': 511, 'vietnamese': 150, 'brazilian': 89, 'japanese': 255, 'french': 529, 'greek': 217, 'indian': 520, 'cajun_creole': 287, 'moroccan': 158, 'spanish': 178, 'russian': 114, 'jamaican': 92, 'thai': 316, 'southern_us': 777, 'korean': 151, 'italian': 1487}\n",
      "{'british': 0.019042510392919404, 'irish': 0.0167627732332037, 'mexican': 0.16280005364087435, 'filipino': 0.019444816950516294, 'chinese': 0.06852621697733673, 'vietnamese': 0.020115327879844443, 'brazilian': 0.011935094542041036, 'japanese': 0.03419605739573555, 'french': 0.07094005632291807, 'greek': 0.029100174332841625, 'indian': 0.0697331366501274, 'cajun_creole': 0.0384873273434357, 'moroccan': 0.021188145366769478, 'spanish': 0.02387018908408207, 'russian': 0.015287649188681775, 'jamaican': 0.012337401099637924, 'thai': 0.042376290733538956, 'southern_us': 0.1041973984175942, 'korean': 0.02024943006571007, 'italian': 0.19940995038219123}\n",
      "{'irish': 389, 'mexican': 3625, 'filipino': 417, 'chinese': 1485, 'vietnamese': 468, 'moroccan': 477, 'brazilian': 254, 'japanese': 807, 'french': 1455, 'greek': 662, 'indian': 1750, 'cajun_creole': 847, 'british': 476, 'spanish': 558, 'russian': 252, 'jamaican': 303, 'thai': 843, 'southern_us': 2436, 'korean': 445, 'italian': 4424}\n",
      "{'irish': 0.0173870290081795, 'mexican': 0.16202565592455193, 'filipino': 0.018638537522907075, 'chinese': 0.06637464801323023, 'vietnamese': 0.020918070889018012, 'moroccan': 0.02132034148303759, 'brazilian': 0.011352970097885844, 'japanese': 0.03607026326375542, 'french': 0.06503374603316497, 'greek': 0.02958923702677334, 'indian': 0.07821928217047334, 'cajun_creole': 0.037858132570509094, 'british': 0.02127564475036875, 'spanish': 0.024940776829213786, 'russian': 0.01126357663254816, 'jamaican': 0.013543109998659097, 'thai': 0.03767934563983373, 'southern_us': 0.10888124078129889, 'korean': 0.01989004603763465, 'italian': 0.1977383453269566}\n"
     ]
    }
   ],
   "source": [
    "distribution_random_test = get_cuisine_distribution(random_recipes_test)\n",
    "print distribution_random_test\n",
    "distribution_random_train = get_cuisine_distribution(random_recipes_train)\n",
    "print distribution_random_train"
   ]
  },
  {
   "cell_type": "code",
   "execution_count": 46,
   "metadata": {
    "collapsed": false
   },
   "outputs": [],
   "source": [
    "random_recipes_train = list_to_string_ingredients(random_recipes_train)\n",
    "random_recipes_test = list_to_string_ingredients(random_recipes_test)"
   ]
  },
  {
   "cell_type": "code",
   "execution_count": 30,
   "metadata": {
    "collapsed": false
   },
   "outputs": [
    {
     "name": "stdout",
     "output_type": "stream",
     "text": [
      "{'cuisine': 'italian', 'id': 18680, 'ingredients': 'powdered sugar, cannoli shells, chopped pecans, granulated sugar, heavy cream, mascarpone, butter, pears, lemon zest, sauce'}\n"
     ]
    }
   ],
   "source": [
    "print random_recipes_train[0]"
   ]
  },
  {
   "cell_type": "code",
   "execution_count": 7,
   "metadata": {
    "collapsed": true
   },
   "outputs": [],
   "source": [
    "def list_to_string_ingredients(recipes):\n",
    "    for recipe in recipes:\n",
    "        recipe['ingredients'] = ', '.join(recipe['ingredients'])\n",
    "    return recipes\n",
    "\n",
    "def index_recipes_in_ES(index, recipes):\n",
    "    es = ElasticSearch()\n",
    "    map_id_esid = {}\n",
    "    for recipe in recipes:\n",
    "        res = es.index(index=index, doc_type='recipe', id=recipe['id'], doc=recipe)\n",
    "        if res['created'] == False:\n",
    "            print res"
   ]
  },
  {
   "cell_type": "code",
   "execution_count": 47,
   "metadata": {
    "collapsed": false
   },
   "outputs": [],
   "source": [
    "index_recipes_in_ES('train-recipe', random_recipes_train)\n",
    "index_recipes_in_ES('test-recipe', random_recipes_test)"
   ]
  },
  {
   "cell_type": "code",
   "execution_count": 11,
   "metadata": {
    "collapsed": false
   },
   "outputs": [],
   "source": [
    "def build_mlt(nb, doc_id):\n",
    "    mlt = {}\n",
    "    mlt[\"from\"] = 0\n",
    "    mlt[\"size\"] = nb\n",
    "    mlt[\"query\"] = {}\n",
    "    mlt[\"query\"][\"more_like_this\"] = {}\n",
    "    mlt[\"query\"][\"more_like_this\"][\"fields\"] = [\"ingredients\"]\n",
    "    mlt[\"query\"][\"more_like_this\"][\"like\"] = [{\"_index\" : \"test-recipe\",\"_type\" : \"recipe\",\"_id\" : doc_id}]\n",
    "    mlt[\"query\"][\"more_like_this\"][\"min_term_freq\"] = 1\n",
    "    mlt[\"query\"][\"more_like_this\"][\"max_query_terms\"] = 50\n",
    "    mlt[\"query\"][\"more_like_this\"][\"minimum_should_match\"] = \"25%\"\n",
    "    return mlt\n",
    "\n",
    "def extract_from_json(json):\n",
    "    hits = json['hits']['hits']\n",
    "    recipes = [hit['_source'] for hit in hits]\n",
    "    return recipes\n",
    "\n",
    "def get_similar(nb, doc_id):\n",
    "    mlt = build_mlt(nb, doc_id)\n",
    "    response = requests.post(\"http://localhost:9200/train-recipe/recipe/_search\", data=json.dumps(mlt))\n",
    "    similar_recipes = extract_from_json(json.loads(response.text))\n",
    "    return similar_recipes\n",
    "\n",
    "def get_document_by_id(index, doc_id):\n",
    "    es = ElasticSearch()\n",
    "    response = es.get(index=index, doc_type='recipe', id=doc_id)\n",
    "    return response['_source']\n"
   ]
  },
  {
   "cell_type": "code",
   "execution_count": 12,
   "metadata": {
    "collapsed": true
   },
   "outputs": [],
   "source": [
    "def get_cuisine_from_recipe_id(recipe_index, recipe_id):\n",
    "    for recipe in recipe_index:\n",
    "        if recipe['id'] == recipe_id:\n",
    "            return recipe['cuisine']\n",
    "\n",
    "def get_result_test(results, random_recipes_test):\n",
    "    succes = []\n",
    "    fail = []\n",
    "    for result in results:\n",
    "        real_cuisine = get_document_by_id('test-recipe', result[1])\n",
    "        predict_cuisine = result[0]\n",
    "        if real_cuisine['cuisine'] == predict_cuisine:\n",
    "            succes.append(real_cuisine)\n",
    "        else:\n",
    "            fail.append(real_cuisine)\n",
    "    succes = Result_percentage(succes, float(len(random_recipes_test))) \n",
    "    fail = Result_percentage(fail, float(len(random_recipes_test))) \n",
    "    return succes, fail\n",
    "\n",
    "class Result_percentage:\n",
    "    def __init__(self, recipes, length_test):\n",
    "        distribution = {}\n",
    "        for recipe in recipes:\n",
    "            cuisine = recipe['cuisine']\n",
    "            if cuisine not in distribution:\n",
    "                distribution[cuisine] = 1\n",
    "            else:\n",
    "                distribution[cuisine] += 1\n",
    "        for cuisine in distribution:\n",
    "            distribution[cuisine] = distribution[cuisine] * 100 / float(len(recipes))\n",
    "        self.distribution = distribution\n",
    "        self.percentage = len(recipes) / length_test * 100\n",
    "    "
   ]
  },
  {
   "cell_type": "code",
   "execution_count": 13,
   "metadata": {
    "collapsed": false,
    "scrolled": true
   },
   "outputs": [],
   "source": [
    "def predict(recipes_to_predict, predict_origin, mlt_nb=100):\n",
    "    predictions = []\n",
    "    for recipe in recipes_to_predict:\n",
    "        similar_recipes = get_similar(mlt_nb, recipe['id'])\n",
    "        prediction = predict_origin(similar_recipes)\n",
    "        predictions.append((prediction, recipe['id']))\n",
    "    return predictions"
   ]
  },
  {
   "cell_type": "code",
   "execution_count": 14,
   "metadata": {
    "collapsed": true
   },
   "outputs": [],
   "source": [
    "def max_country_origin(similar_recipes):\n",
    "    distribution = {}\n",
    "    for recipe in similar_recipes:\n",
    "        if recipe['cuisine'] in distribution:\n",
    "            distribution[recipe['cuisine']] += 1\n",
    "        else:\n",
    "            distribution[recipe['cuisine']] = 1\n",
    "    prediction = max(distribution.iteritems(), key=operator.itemgetter(1))[0]\n",
    "    return prediction\n",
    "\n",
    "def diff_distribution(similar_recipes):\n",
    "    distribution = {}\n",
    "    for recipe in similar_recipes:\n",
    "        if recipe['cuisine'] in distribution:\n",
    "            distribution[recipe['cuisine']] += 1\n",
    "        else:\n",
    "            distribution[recipe['cuisine']] = 1\n",
    "    for cuisine in distribution:\n",
    "        distribution[cuisine] = distribution[cuisine] * 100 / len(similar_recipes) \n",
    "        distribution[cuisine] = distribution[cuisine] - CUISINE_DISTRIBUTION[cuisine]\n",
    "    prediction = max(distribution.iteritems(), key=operator.itemgetter(1))[0]\n",
    "    return prediction"
   ]
  },
  {
   "cell_type": "code",
   "execution_count": 48,
   "metadata": {
    "collapsed": false
   },
   "outputs": [],
   "source": [
    "results = predict(random_recipes_test, diff_distribution, 15)"
   ]
  },
  {
   "cell_type": "code",
   "execution_count": 18,
   "metadata": {
    "collapsed": false
   },
   "outputs": [],
   "source": [
    "score = get_result_test(results, random_recipes_test)"
   ]
  },
  {
   "cell_type": "code",
   "execution_count": 19,
   "metadata": {
    "collapsed": false
   },
   "outputs": [
    {
     "name": "stdout",
     "output_type": "stream",
     "text": [
      "{u'british': 0.8099352051835853, u'irish': 0.8999280057595392, u'mexican': 20.248380129589634, u'filipino': 1.1159107271418287, u'chinese': 7.919366450683945, u'vietnamese': 1.4398848092152627, u'brazilian': 0.7199424046076314, u'japanese': 2.4478041756659468, u'french': 4.499640028797696, u'greek': 2.5197984161267097, u'indian': 8.92728581713463, u'cajun_creole': 3.5817134629229663, u'moroccan': 1.8898488120950323, u'spanish': 1.2239020878329734, u'russian': 0.593952483801296, u'jamaican': 1.0259179265658747, u'thai': 3.7077033837293016, u'southern_us': 11.01511879049676, u'korean': 1.7458603311735061, u'italian': 23.668106551475883}\n",
      "74.5071744669\n",
      "--------------\n",
      "{u'british': 5.576012624934245, u'irish': 4.0504997369805364, u'mexican': 6.470278800631247, u'filipino': 3.9978958442924775, u'chinese': 3.051025775907417, u'vietnamese': 3.840084166228301, u'brazilian': 3.051025775907417, u'japanese': 6.417674907943188, u'french': 12.256706996317728, u'greek': 4.83955812730142, u'indian': 3.682272488164124, u'cajun_creole': 3.734876380852183, u'moroccan': 2.8932140978432406, u'spanish': 6.102051551814834, u'russian': 2.6301946344029457, u'jamaican': 2.2093634928984747, u'thai': 4.0504997369805364, u'southern_us': 9.416096791162547, u'korean': 2.7880063124671226, u'italian': 8.942661756970017}\n",
      "25.4928255331\n"
     ]
    }
   ],
   "source": [
    "print score[0].distribution\n",
    "print score[0].percentage\n",
    "print \"--------------\"\n",
    "print score[1].distribution\n",
    "print score[1].percentage"
   ]
  },
  {
   "cell_type": "markdown",
   "metadata": {},
   "source": [
    "SANS ANALYZER, DISTRIBUTION, MLT15, 10MAXTF, 30%MINMATCH\n",
    "==\n",
    "72.1110328875\n",
    "AVEC ANALYZER, DISTRIBUTION, MLT15, 10MAXTF, 30%MINMATCH\n",
    "==\n",
    "72.2719501157\n",
    "AVEC ANALYZER, DISTRIBUTION, MLT15, 50MAXTF, 30%MINMATCH\n",
    "==\n",
    "74.4342753696\n",
    "AVEC ANALYZER, DISTRIBUTION, MLT15, 50MAXTF, 25%MINMATCH\n",
    "==\n",
    "75.2313262706"
   ]
  },
  {
   "cell_type": "code",
   "execution_count": 73,
   "metadata": {
    "collapsed": false
   },
   "outputs": [
    {
     "name": "stdout",
     "output_type": "stream",
     "text": [
      "66.3180126722 1\n",
      "66.3180126722 1\n",
      "62.5465151363 2\n",
      "63.743337021 2\n",
      "67.6757517852 3\n",
      "67.9070703007 3\n",
      "69.5765865433 4\n",
      "69.5564718898 4\n",
      "70.8438097154 5\n",
      "70.4214019914 5\n",
      "71.1254148647 6\n",
      "70.9242683295 6\n",
      "71.5679372423 7\n",
      "71.3064467465 7\n",
      "71.8595997184 8\n",
      "71.4472493211 8\n",
      "71.8998290254 9\n",
      "71.7288544705 9\n",
      "71.9300010057 10\n",
      "71.7288544705 10\n",
      "72.0104596198 11\n",
      "71.7187971437 11\n",
      "71.919943679 12\n",
      "71.6785678367 12\n",
      "72.1110328875 13\n",
      "71.7590264508 13\n",
      "71.9300010057 14\n",
      "71.5981092226 14\n",
      "72.1110328875 15\n",
      "71.8093130846 15\n",
      "71.7690837775 16\n",
      "71.6282812029 16\n",
      "71.8294277381 17\n",
      "71.6483958564 17\n",
      "71.7791411043 18\n",
      "71.5478225888 18\n",
      "71.6685105099 19\n",
      "71.6282812029 19\n",
      "71.8394850649 20\n",
      "71.748969124 20\n",
      "71.5176506085 21\n",
      "71.5277079352 21\n",
      "71.8294277381 22\n",
      "71.708739817 22\n",
      "71.6182238761 23\n",
      "71.6584531831 23\n",
      "71.6383385296 24\n",
      "71.5679372423 24\n",
      "71.6282812029 25\n",
      "71.5277079352 25\n",
      "71.6081665493 26\n",
      "71.4975359549 26\n",
      "71.5478225888 27\n",
      "71.3567333803 27\n",
      "71.3869053606 28\n",
      "71.2259881324 28\n",
      "71.2259881324 29\n",
      "71.1757014985 29\n",
      "71.155586845 30\n",
      "71.0449562506 30\n",
      "71.1053002112 31\n",
      "70.9846122901 31\n",
      "71.0348989239 32\n",
      "70.904153676 32\n",
      "70.9544403098 33\n",
      "70.8136377351 33\n",
      "70.8236950619 34\n",
      "70.7130644675 34\n",
      "70.733179121 35\n",
      "70.6527205069 35\n",
      "70.7231217942 36\n",
      "70.6024338731 36\n",
      "70.6728351604 37\n",
      "70.562204566 37\n",
      "70.6225485266 38\n",
      "70.4918032787 38\n",
      "70.4817459519 39\n",
      "70.310771397 39\n",
      "70.4113446646 40\n",
      "70.2604847631 40\n",
      "70.4012873378 41\n",
      "70.3308860505 41\n",
      "70.4012873378 42\n",
      "70.180026149 42\n",
      "70.3308860505 43\n",
      "70.1900834758 43\n",
      "70.2001408026 44\n",
      "69.9989942673 44\n",
      "70.1096248617 45\n",
      "69.9386503067 45\n",
      "70.1196821885 46\n",
      "69.9788796138 46\n",
      "70.139796842 47\n",
      "69.92859298 47\n",
      "69.9487076335 48\n",
      "69.8280197124 48\n",
      "70.0895102082 49\n",
      "70.0191089208 49\n",
      "70.0191089208 50\n",
      "69.8481343659 50\n",
      "69.9084783265 51\n",
      "69.757618425 51\n",
      "69.9084783265 52\n",
      "69.7073317912 52\n",
      "69.7978477321 53\n",
      "69.7073317912 53\n",
      "69.717389118 54\n",
      "69.6369305039 54\n",
      "69.6972744644 55\n",
      "69.506185256 55\n",
      "69.506185256 56\n",
      "69.3653826813 56\n",
      "69.4156693151 57\n",
      "69.2446947601 57\n",
      "69.4659559489 58\n",
      "69.335210701 58\n",
      "69.506185256 59\n",
      "69.3150960475 59\n",
      "69.4558986221 60\n",
      "69.2547520869 60\n",
      "69.4357839686 61\n",
      "69.2446947601 61\n",
      "69.4760132757 62\n",
      "69.2648094137 62\n",
      "69.3050387207 63\n",
      "69.0737202052 63\n",
      "69.335210701 64\n",
      "69.1038921855 64\n",
      "69.2648094137 65\n",
      "69.1441214925 65\n",
      "69.2849240672 66\n",
      "69.0737202052 66\n",
      "69.1742934728 67\n",
      "69.0334908981 67\n",
      "69.0938348587 68\n",
      "68.9731469375 68\n",
      "69.0234335714 69\n",
      "68.953032284 69\n",
      "68.9630896108 70\n",
      "68.9027456502 70\n",
      "68.912802977 71\n",
      "68.741828422 71\n",
      "68.8826309967 72\n",
      "68.701599115 72\n",
      "68.8021723826 73\n",
      "68.6211405009 73\n",
      "68.7720004023 74\n",
      "68.5909685206 74\n",
      "68.7518857488 75\n",
      "68.6513124811 75\n",
      "68.6714271347 76\n",
      "68.6412551544 76\n",
      "68.6110831741 77\n",
      "68.5507392135 77\n",
      "68.5909685206 78\n",
      "68.4803379262 78\n",
      "68.5406818868 79\n",
      "68.3898219853 79\n",
      "68.570853867 80\n",
      "68.4300512924 80\n",
      "68.6211405009 81\n",
      "68.5205672332 81\n",
      "68.6412551544 82\n",
      "68.4300512924 82\n",
      "68.5004525797 83\n",
      "68.3998793121 83\n",
      "68.4803379262 84\n",
      "68.3898219853 84\n",
      "68.3898219853 85\n",
      "68.2892487177 85\n",
      "68.3898219853 86\n",
      "68.2993060445 86\n",
      "68.359650005 87\n",
      "68.2490194106 87\n",
      "68.2993060445 88\n",
      "68.1786181233 88\n",
      "68.2691340642 89\n",
      "68.108216836 89\n",
      "68.1987327768 90\n",
      "68.0478728754 90\n",
      "68.1786181233 91\n",
      "68.0981595092 91\n",
      "68.1585034698 92\n",
      "68.0378155486 92\n",
      "68.0277582219 93\n",
      "67.897012974 93\n",
      "68.0579302022 94\n",
      "67.8869556472 94\n",
      "67.9674142613 95\n",
      "67.8266116866 95\n",
      "67.9875289148 96\n",
      "67.7863823796 96\n",
      "67.9774715881 97\n",
      "67.7964397063 97\n",
      "67.8869556472 98\n",
      "67.6757517852 98\n",
      "67.8567836669 99\n",
      "67.6958664387 99\n",
      "67.7964397063 100\n",
      "67.6154078246 100\n",
      "67.7964397063 101\n",
      "67.6455798049 101\n",
      "67.7763250528 102\n",
      "67.6858091119 102\n",
      "67.6858091119 103\n",
      "67.555063864 103\n",
      "67.6556371317 104\n",
      "67.5651211908 104\n",
      "67.5952931711 105\n",
      "67.4444332696 105\n",
      "67.5751785176 106\n",
      "67.4142612893 106\n",
      "67.5450065373 107\n",
      "67.4343759429 107\n",
      "67.4846625767 108\n",
      "67.3840893091 108\n",
      "67.5450065373 109\n",
      "67.4243186161 109\n",
      "67.4544905964 110\n",
      "67.303630695 110\n",
      "67.4645479232 111\n",
      "67.3237453485 111\n",
      "67.4544905964 112\n",
      "67.3740319823 112\n",
      "67.4243186161 113\n",
      "67.3237453485 113\n",
      "67.343860002 114\n",
      "67.2332294076 114\n",
      "67.303630695 115\n",
      "67.2131147541 115\n",
      "67.3237453485 116\n",
      "67.1829427738 116\n",
      "67.2935733682 117\n",
      "67.1829427738 117\n",
      "67.1628281203 118\n",
      "67.0823695062 118\n",
      "67.172885447 119\n",
      "67.0723121794 119\n",
      "67.13265614 120\n",
      "67.0220255456 120\n",
      "67.1225988132 121\n",
      "66.961681585 121\n",
      "67.1427134668 122\n",
      "67.0220255456 122\n",
      "67.1125414865 123\n",
      "66.9918535653 123\n",
      "67.1225988132 124\n",
      "66.9415669315 124\n",
      "67.1225988132 125\n",
      "66.8812229709 125\n",
      "66.9918535653 126\n",
      "66.8409936639 126\n",
      "66.9717389118 127\n",
      "66.8208790104 127\n",
      "66.9315096047 128\n",
      "66.7705923765 128\n",
      "66.9113949512 129\n",
      "66.750477723 129\n",
      "66.9315096047 130\n",
      "66.750477723 130\n",
      "66.8912802977 131\n",
      "66.6901337624 131\n",
      "66.9013376245 132\n",
      "66.6599617822 132\n",
      "66.8108216836 133\n",
      "66.6096751483 133\n",
      "66.7806497033 134\n",
      "66.6096751483 134\n",
      "66.710248416 135\n",
      "66.5694458413 135\n",
      "66.710248416 136\n",
      "66.4789299004 136\n",
      "66.6398471286 137\n",
      "66.499044554 137\n",
      "66.6096751483 138\n",
      "66.5091018807 138\n",
      "66.710248416 139\n",
      "66.4588152469 139\n",
      "66.6398471286 140\n",
      "66.4688725737 140\n",
      "66.539273861 141\n",
      "66.4085286131 141\n",
      "66.5292165342 142\n",
      "66.368299306 142\n",
      "66.4789299004 143\n",
      "66.3079553455 143\n",
      "66.4688725737 144\n",
      "66.2777833652 144\n",
      "66.3984712863 145\n",
      "66.2677260384 145\n",
      "66.368299306 146\n",
      "66.2073820778 146\n",
      "66.3481846525 147\n",
      "66.1872674243 147\n",
      "66.3783566328 148\n",
      "66.1470381173 148\n",
      "66.1973247511 149\n",
      "65.9660062355 149\n",
      "66.2174394046 150\n",
      "66.0364075229 150\n",
      "66.2073820778 151\n",
      "66.0464648496 151\n",
      "66.2073820778 152\n",
      "66.0364075229 152\n",
      "66.2476113849 153\n",
      "65.9961782158 153\n",
      "66.1973247511 154\n",
      "66.0162928694 154\n",
      "66.2375540581 155\n",
      "66.0464648496 155\n",
      "66.1872674243 156\n",
      "66.0263501961 156\n",
      "66.0866941567 157\n",
      "65.945891582 157\n",
      "66.1369807905 158\n",
      "65.9861208891 158\n",
      "66.0565221764 159\n",
      "65.9157196017 159\n",
      "66.0364075229 160\n",
      "65.8956049482 160\n",
      "65.9157196017 161\n",
      "65.7749170271 161\n",
      "65.905662275 162\n",
      "65.7548023735 162\n",
      "65.905662275 163\n",
      "65.7749170271 163\n",
      "65.8855476214 164\n",
      "65.8352609876 164\n",
      "65.8453183144 165\n",
      "65.8151463341 165\n",
      "65.8754902947 166\n",
      "65.7447450468 166\n",
      "65.7246303932 167\n",
      "65.6441717791 167\n",
      "65.7145730665 168\n",
      "65.6441717791 168\n",
      "65.7145730665 169\n",
      "65.6039424721 169\n",
      "65.694458413 170\n",
      "65.6240571256 170\n",
      "65.6441717791 171\n",
      "65.563713165 171\n"
     ]
    },
    {
     "ename": "KeyboardInterrupt",
     "evalue": "",
     "output_type": "error",
     "traceback": [
      "\u001b[0;31m---------------------------------------------------------------------------\u001b[0m",
      "\u001b[0;31mKeyboardInterrupt\u001b[0m                         Traceback (most recent call last)",
      "\u001b[0;32m<ipython-input-73-8a282a96d8ab>\u001b[0m in \u001b[0;36m<module>\u001b[0;34m()\u001b[0m\n\u001b[1;32m      2\u001b[0m \u001b[0mmax_based\u001b[0m \u001b[0;34m=\u001b[0m \u001b[0;34m{\u001b[0m\u001b[0;34m}\u001b[0m\u001b[0;34m\u001b[0m\u001b[0m\n\u001b[1;32m      3\u001b[0m \u001b[0;32mfor\u001b[0m \u001b[0mi\u001b[0m \u001b[0;32min\u001b[0m \u001b[0mrange\u001b[0m\u001b[0;34m(\u001b[0m\u001b[0;36m1\u001b[0m\u001b[0;34m,\u001b[0m \u001b[0;36m201\u001b[0m\u001b[0;34m)\u001b[0m\u001b[0;34m:\u001b[0m\u001b[0;34m\u001b[0m\u001b[0m\n\u001b[0;32m----> 4\u001b[0;31m     \u001b[0mresults\u001b[0m \u001b[0;34m=\u001b[0m \u001b[0mpredict\u001b[0m\u001b[0;34m(\u001b[0m\u001b[0mrandom_recipes_test\u001b[0m\u001b[0;34m,\u001b[0m \u001b[0mdiff_distribution\u001b[0m\u001b[0;34m,\u001b[0m \u001b[0mi\u001b[0m\u001b[0;34m)\u001b[0m\u001b[0;34m\u001b[0m\u001b[0m\n\u001b[0m\u001b[1;32m      5\u001b[0m     \u001b[0mscore\u001b[0m \u001b[0;34m=\u001b[0m \u001b[0mget_result_test\u001b[0m\u001b[0;34m(\u001b[0m\u001b[0mresults\u001b[0m\u001b[0;34m,\u001b[0m \u001b[0mrandom_recipes_test\u001b[0m\u001b[0;34m)\u001b[0m\u001b[0;34m\u001b[0m\u001b[0m\n\u001b[1;32m      6\u001b[0m     \u001b[0mdistribution_based\u001b[0m\u001b[0;34m[\u001b[0m\u001b[0mi\u001b[0m\u001b[0;34m]\u001b[0m \u001b[0;34m=\u001b[0m \u001b[0mscore\u001b[0m\u001b[0;34m\u001b[0m\u001b[0m\n",
      "\u001b[0;32m<ipython-input-51-bd6a99f422a7>\u001b[0m in \u001b[0;36mpredict\u001b[0;34m(recipes_to_predict, predict_origin, mlt_nb)\u001b[0m\n\u001b[1;32m      2\u001b[0m     \u001b[0mpredictions\u001b[0m \u001b[0;34m=\u001b[0m \u001b[0;34m[\u001b[0m\u001b[0;34m]\u001b[0m\u001b[0;34m\u001b[0m\u001b[0m\n\u001b[1;32m      3\u001b[0m     \u001b[0;32mfor\u001b[0m \u001b[0mrecipe\u001b[0m \u001b[0;32min\u001b[0m \u001b[0mrecipes_to_predict\u001b[0m\u001b[0;34m:\u001b[0m\u001b[0;34m\u001b[0m\u001b[0m\n\u001b[0;32m----> 4\u001b[0;31m         \u001b[0msimilar_recipes\u001b[0m \u001b[0;34m=\u001b[0m \u001b[0mget_similar\u001b[0m\u001b[0;34m(\u001b[0m\u001b[0mmlt_nb\u001b[0m\u001b[0;34m,\u001b[0m \u001b[0mrecipe\u001b[0m\u001b[0;34m[\u001b[0m\u001b[0;34m'id'\u001b[0m\u001b[0;34m]\u001b[0m\u001b[0;34m)\u001b[0m\u001b[0;34m\u001b[0m\u001b[0m\n\u001b[0m\u001b[1;32m      5\u001b[0m         \u001b[0mprediction\u001b[0m \u001b[0;34m=\u001b[0m \u001b[0mpredict_origin\u001b[0m\u001b[0;34m(\u001b[0m\u001b[0msimilar_recipes\u001b[0m\u001b[0;34m)\u001b[0m\u001b[0;34m\u001b[0m\u001b[0m\n\u001b[1;32m      6\u001b[0m         \u001b[0mpredictions\u001b[0m\u001b[0;34m.\u001b[0m\u001b[0mappend\u001b[0m\u001b[0;34m(\u001b[0m\u001b[0;34m(\u001b[0m\u001b[0mprediction\u001b[0m\u001b[0;34m,\u001b[0m \u001b[0mrecipe\u001b[0m\u001b[0;34m[\u001b[0m\u001b[0;34m'id'\u001b[0m\u001b[0;34m]\u001b[0m\u001b[0;34m)\u001b[0m\u001b[0;34m)\u001b[0m\u001b[0;34m\u001b[0m\u001b[0m\n",
      "\u001b[0;32m<ipython-input-33-c21fe1de56cd>\u001b[0m in \u001b[0;36mget_similar\u001b[0;34m(nb, doc_id)\u001b[0m\n\u001b[1;32m     19\u001b[0m \u001b[0;32mdef\u001b[0m \u001b[0mget_similar\u001b[0m\u001b[0;34m(\u001b[0m\u001b[0mnb\u001b[0m\u001b[0;34m,\u001b[0m \u001b[0mdoc_id\u001b[0m\u001b[0;34m)\u001b[0m\u001b[0;34m:\u001b[0m\u001b[0;34m\u001b[0m\u001b[0m\n\u001b[1;32m     20\u001b[0m     \u001b[0mmlt\u001b[0m \u001b[0;34m=\u001b[0m \u001b[0mbuild_mlt\u001b[0m\u001b[0;34m(\u001b[0m\u001b[0mnb\u001b[0m\u001b[0;34m,\u001b[0m \u001b[0mdoc_id\u001b[0m\u001b[0;34m)\u001b[0m\u001b[0;34m\u001b[0m\u001b[0m\n\u001b[0;32m---> 21\u001b[0;31m     \u001b[0mresponse\u001b[0m \u001b[0;34m=\u001b[0m \u001b[0mrequests\u001b[0m\u001b[0;34m.\u001b[0m\u001b[0mpost\u001b[0m\u001b[0;34m(\u001b[0m\u001b[0;34m\"http://localhost:9200/train-recipe/recipe/_search\"\u001b[0m\u001b[0;34m,\u001b[0m \u001b[0mdata\u001b[0m\u001b[0;34m=\u001b[0m\u001b[0mjson\u001b[0m\u001b[0;34m.\u001b[0m\u001b[0mdumps\u001b[0m\u001b[0;34m(\u001b[0m\u001b[0mmlt\u001b[0m\u001b[0;34m)\u001b[0m\u001b[0;34m)\u001b[0m\u001b[0;34m\u001b[0m\u001b[0m\n\u001b[0m\u001b[1;32m     22\u001b[0m     \u001b[0msimilar_recipes\u001b[0m \u001b[0;34m=\u001b[0m \u001b[0mextract_from_json\u001b[0m\u001b[0;34m(\u001b[0m\u001b[0mjson\u001b[0m\u001b[0;34m.\u001b[0m\u001b[0mloads\u001b[0m\u001b[0;34m(\u001b[0m\u001b[0mresponse\u001b[0m\u001b[0;34m.\u001b[0m\u001b[0mtext\u001b[0m\u001b[0;34m)\u001b[0m\u001b[0;34m)\u001b[0m\u001b[0;34m\u001b[0m\u001b[0m\n\u001b[1;32m     23\u001b[0m     \u001b[0;32mreturn\u001b[0m \u001b[0msimilar_recipes\u001b[0m\u001b[0;34m\u001b[0m\u001b[0m\n",
      "\u001b[0;32m/Library/Python/2.7/site-packages/requests/api.pyc\u001b[0m in \u001b[0;36mpost\u001b[0;34m(url, data, json, **kwargs)\u001b[0m\n\u001b[1;32m    105\u001b[0m     \"\"\"\n\u001b[1;32m    106\u001b[0m \u001b[0;34m\u001b[0m\u001b[0m\n\u001b[0;32m--> 107\u001b[0;31m     \u001b[0;32mreturn\u001b[0m \u001b[0mrequest\u001b[0m\u001b[0;34m(\u001b[0m\u001b[0;34m'post'\u001b[0m\u001b[0;34m,\u001b[0m \u001b[0murl\u001b[0m\u001b[0;34m,\u001b[0m \u001b[0mdata\u001b[0m\u001b[0;34m=\u001b[0m\u001b[0mdata\u001b[0m\u001b[0;34m,\u001b[0m \u001b[0mjson\u001b[0m\u001b[0;34m=\u001b[0m\u001b[0mjson\u001b[0m\u001b[0;34m,\u001b[0m \u001b[0;34m**\u001b[0m\u001b[0mkwargs\u001b[0m\u001b[0;34m)\u001b[0m\u001b[0;34m\u001b[0m\u001b[0m\n\u001b[0m\u001b[1;32m    108\u001b[0m \u001b[0;34m\u001b[0m\u001b[0m\n\u001b[1;32m    109\u001b[0m \u001b[0;34m\u001b[0m\u001b[0m\n",
      "\u001b[0;32m/Library/Python/2.7/site-packages/requests/api.pyc\u001b[0m in \u001b[0;36mrequest\u001b[0;34m(method, url, **kwargs)\u001b[0m\n\u001b[1;32m     51\u001b[0m     \u001b[0;31m# cases, and look like a memory leak in others.\u001b[0m\u001b[0;34m\u001b[0m\u001b[0;34m\u001b[0m\u001b[0m\n\u001b[1;32m     52\u001b[0m     \u001b[0;32mwith\u001b[0m \u001b[0msessions\u001b[0m\u001b[0;34m.\u001b[0m\u001b[0mSession\u001b[0m\u001b[0;34m(\u001b[0m\u001b[0;34m)\u001b[0m \u001b[0;32mas\u001b[0m \u001b[0msession\u001b[0m\u001b[0;34m:\u001b[0m\u001b[0;34m\u001b[0m\u001b[0m\n\u001b[0;32m---> 53\u001b[0;31m         \u001b[0;32mreturn\u001b[0m \u001b[0msession\u001b[0m\u001b[0;34m.\u001b[0m\u001b[0mrequest\u001b[0m\u001b[0;34m(\u001b[0m\u001b[0mmethod\u001b[0m\u001b[0;34m=\u001b[0m\u001b[0mmethod\u001b[0m\u001b[0;34m,\u001b[0m \u001b[0murl\u001b[0m\u001b[0;34m=\u001b[0m\u001b[0murl\u001b[0m\u001b[0;34m,\u001b[0m \u001b[0;34m**\u001b[0m\u001b[0mkwargs\u001b[0m\u001b[0;34m)\u001b[0m\u001b[0;34m\u001b[0m\u001b[0m\n\u001b[0m\u001b[1;32m     54\u001b[0m \u001b[0;34m\u001b[0m\u001b[0m\n\u001b[1;32m     55\u001b[0m \u001b[0;34m\u001b[0m\u001b[0m\n",
      "\u001b[0;32m/Library/Python/2.7/site-packages/requests/sessions.pyc\u001b[0m in \u001b[0;36mrequest\u001b[0;34m(self, method, url, params, data, headers, cookies, files, auth, timeout, allow_redirects, proxies, hooks, stream, verify, cert, json)\u001b[0m\n\u001b[1;32m    466\u001b[0m         }\n\u001b[1;32m    467\u001b[0m         \u001b[0msend_kwargs\u001b[0m\u001b[0;34m.\u001b[0m\u001b[0mupdate\u001b[0m\u001b[0;34m(\u001b[0m\u001b[0msettings\u001b[0m\u001b[0;34m)\u001b[0m\u001b[0;34m\u001b[0m\u001b[0m\n\u001b[0;32m--> 468\u001b[0;31m         \u001b[0mresp\u001b[0m \u001b[0;34m=\u001b[0m \u001b[0mself\u001b[0m\u001b[0;34m.\u001b[0m\u001b[0msend\u001b[0m\u001b[0;34m(\u001b[0m\u001b[0mprep\u001b[0m\u001b[0;34m,\u001b[0m \u001b[0;34m**\u001b[0m\u001b[0msend_kwargs\u001b[0m\u001b[0;34m)\u001b[0m\u001b[0;34m\u001b[0m\u001b[0m\n\u001b[0m\u001b[1;32m    469\u001b[0m \u001b[0;34m\u001b[0m\u001b[0m\n\u001b[1;32m    470\u001b[0m         \u001b[0;32mreturn\u001b[0m \u001b[0mresp\u001b[0m\u001b[0;34m\u001b[0m\u001b[0m\n",
      "\u001b[0;32m/Library/Python/2.7/site-packages/requests/sessions.pyc\u001b[0m in \u001b[0;36msend\u001b[0;34m(self, request, **kwargs)\u001b[0m\n\u001b[1;32m    574\u001b[0m \u001b[0;34m\u001b[0m\u001b[0m\n\u001b[1;32m    575\u001b[0m         \u001b[0;31m# Send the request\u001b[0m\u001b[0;34m\u001b[0m\u001b[0;34m\u001b[0m\u001b[0m\n\u001b[0;32m--> 576\u001b[0;31m         \u001b[0mr\u001b[0m \u001b[0;34m=\u001b[0m \u001b[0madapter\u001b[0m\u001b[0;34m.\u001b[0m\u001b[0msend\u001b[0m\u001b[0;34m(\u001b[0m\u001b[0mrequest\u001b[0m\u001b[0;34m,\u001b[0m \u001b[0;34m**\u001b[0m\u001b[0mkwargs\u001b[0m\u001b[0;34m)\u001b[0m\u001b[0;34m\u001b[0m\u001b[0m\n\u001b[0m\u001b[1;32m    577\u001b[0m \u001b[0;34m\u001b[0m\u001b[0m\n\u001b[1;32m    578\u001b[0m         \u001b[0;31m# Total elapsed time of the request (approximately)\u001b[0m\u001b[0;34m\u001b[0m\u001b[0;34m\u001b[0m\u001b[0m\n",
      "\u001b[0;32m/Library/Python/2.7/site-packages/requests/adapters.pyc\u001b[0m in \u001b[0;36msend\u001b[0;34m(self, request, stream, timeout, verify, cert, proxies)\u001b[0m\n\u001b[1;32m    374\u001b[0m                     \u001b[0mdecode_content\u001b[0m\u001b[0;34m=\u001b[0m\u001b[0mFalse\u001b[0m\u001b[0;34m,\u001b[0m\u001b[0;34m\u001b[0m\u001b[0m\n\u001b[1;32m    375\u001b[0m                     \u001b[0mretries\u001b[0m\u001b[0;34m=\u001b[0m\u001b[0mself\u001b[0m\u001b[0;34m.\u001b[0m\u001b[0mmax_retries\u001b[0m\u001b[0;34m,\u001b[0m\u001b[0;34m\u001b[0m\u001b[0m\n\u001b[0;32m--> 376\u001b[0;31m                     \u001b[0mtimeout\u001b[0m\u001b[0;34m=\u001b[0m\u001b[0mtimeout\u001b[0m\u001b[0;34m\u001b[0m\u001b[0m\n\u001b[0m\u001b[1;32m    377\u001b[0m                 )\n\u001b[1;32m    378\u001b[0m \u001b[0;34m\u001b[0m\u001b[0m\n",
      "\u001b[0;32m/Library/Python/2.7/site-packages/requests/packages/urllib3/connectionpool.pyc\u001b[0m in \u001b[0;36murlopen\u001b[0;34m(self, method, url, body, headers, retries, redirect, assert_same_host, timeout, pool_timeout, release_conn, **response_kw)\u001b[0m\n\u001b[1;32m    557\u001b[0m             httplib_response = self._make_request(conn, method, url,\n\u001b[1;32m    558\u001b[0m                                                   \u001b[0mtimeout\u001b[0m\u001b[0;34m=\u001b[0m\u001b[0mtimeout_obj\u001b[0m\u001b[0;34m,\u001b[0m\u001b[0;34m\u001b[0m\u001b[0m\n\u001b[0;32m--> 559\u001b[0;31m                                                   body=body, headers=headers)\n\u001b[0m\u001b[1;32m    560\u001b[0m \u001b[0;34m\u001b[0m\u001b[0m\n\u001b[1;32m    561\u001b[0m             \u001b[0;31m# If we're going to release the connection in ``finally:``, then\u001b[0m\u001b[0;34m\u001b[0m\u001b[0;34m\u001b[0m\u001b[0m\n",
      "\u001b[0;32m/Library/Python/2.7/site-packages/requests/packages/urllib3/connectionpool.pyc\u001b[0m in \u001b[0;36m_make_request\u001b[0;34m(self, conn, method, url, timeout, **httplib_request_kw)\u001b[0m\n\u001b[1;32m    351\u001b[0m         \u001b[0;31m# conn.request() calls httplib.*.request, not the method in\u001b[0m\u001b[0;34m\u001b[0m\u001b[0;34m\u001b[0m\u001b[0m\n\u001b[1;32m    352\u001b[0m         \u001b[0;31m# urllib3.request. It also calls makefile (recv) on the socket.\u001b[0m\u001b[0;34m\u001b[0m\u001b[0;34m\u001b[0m\u001b[0m\n\u001b[0;32m--> 353\u001b[0;31m         \u001b[0mconn\u001b[0m\u001b[0;34m.\u001b[0m\u001b[0mrequest\u001b[0m\u001b[0;34m(\u001b[0m\u001b[0mmethod\u001b[0m\u001b[0;34m,\u001b[0m \u001b[0murl\u001b[0m\u001b[0;34m,\u001b[0m \u001b[0;34m**\u001b[0m\u001b[0mhttplib_request_kw\u001b[0m\u001b[0;34m)\u001b[0m\u001b[0;34m\u001b[0m\u001b[0m\n\u001b[0m\u001b[1;32m    354\u001b[0m \u001b[0;34m\u001b[0m\u001b[0m\n\u001b[1;32m    355\u001b[0m         \u001b[0;31m# Reset the timeout for the recv() on the socket\u001b[0m\u001b[0;34m\u001b[0m\u001b[0;34m\u001b[0m\u001b[0m\n",
      "\u001b[0;32m/System/Library/Frameworks/Python.framework/Versions/2.7/lib/python2.7/httplib.pyc\u001b[0m in \u001b[0;36mrequest\u001b[0;34m(self, method, url, body, headers)\u001b[0m\n\u001b[1;32m   1051\u001b[0m     \u001b[0;32mdef\u001b[0m \u001b[0mrequest\u001b[0m\u001b[0;34m(\u001b[0m\u001b[0mself\u001b[0m\u001b[0;34m,\u001b[0m \u001b[0mmethod\u001b[0m\u001b[0;34m,\u001b[0m \u001b[0murl\u001b[0m\u001b[0;34m,\u001b[0m \u001b[0mbody\u001b[0m\u001b[0;34m=\u001b[0m\u001b[0mNone\u001b[0m\u001b[0;34m,\u001b[0m \u001b[0mheaders\u001b[0m\u001b[0;34m=\u001b[0m\u001b[0;34m{\u001b[0m\u001b[0;34m}\u001b[0m\u001b[0;34m)\u001b[0m\u001b[0;34m:\u001b[0m\u001b[0;34m\u001b[0m\u001b[0m\n\u001b[1;32m   1052\u001b[0m         \u001b[0;34m\"\"\"Send a complete request to the server.\"\"\"\u001b[0m\u001b[0;34m\u001b[0m\u001b[0m\n\u001b[0;32m-> 1053\u001b[0;31m         \u001b[0mself\u001b[0m\u001b[0;34m.\u001b[0m\u001b[0m_send_request\u001b[0m\u001b[0;34m(\u001b[0m\u001b[0mmethod\u001b[0m\u001b[0;34m,\u001b[0m \u001b[0murl\u001b[0m\u001b[0;34m,\u001b[0m \u001b[0mbody\u001b[0m\u001b[0;34m,\u001b[0m \u001b[0mheaders\u001b[0m\u001b[0;34m)\u001b[0m\u001b[0;34m\u001b[0m\u001b[0m\n\u001b[0m\u001b[1;32m   1054\u001b[0m \u001b[0;34m\u001b[0m\u001b[0m\n\u001b[1;32m   1055\u001b[0m     \u001b[0;32mdef\u001b[0m \u001b[0m_set_content_length\u001b[0m\u001b[0;34m(\u001b[0m\u001b[0mself\u001b[0m\u001b[0;34m,\u001b[0m \u001b[0mbody\u001b[0m\u001b[0;34m,\u001b[0m \u001b[0mmethod\u001b[0m\u001b[0;34m)\u001b[0m\u001b[0;34m:\u001b[0m\u001b[0;34m\u001b[0m\u001b[0m\n",
      "\u001b[0;32m/System/Library/Frameworks/Python.framework/Versions/2.7/lib/python2.7/httplib.pyc\u001b[0m in \u001b[0;36m_send_request\u001b[0;34m(self, method, url, body, headers)\u001b[0m\n\u001b[1;32m   1091\u001b[0m         \u001b[0;32mfor\u001b[0m \u001b[0mhdr\u001b[0m\u001b[0;34m,\u001b[0m \u001b[0mvalue\u001b[0m \u001b[0;32min\u001b[0m \u001b[0mheaders\u001b[0m\u001b[0;34m.\u001b[0m\u001b[0miteritems\u001b[0m\u001b[0;34m(\u001b[0m\u001b[0;34m)\u001b[0m\u001b[0;34m:\u001b[0m\u001b[0;34m\u001b[0m\u001b[0m\n\u001b[1;32m   1092\u001b[0m             \u001b[0mself\u001b[0m\u001b[0;34m.\u001b[0m\u001b[0mputheader\u001b[0m\u001b[0;34m(\u001b[0m\u001b[0mhdr\u001b[0m\u001b[0;34m,\u001b[0m \u001b[0mvalue\u001b[0m\u001b[0;34m)\u001b[0m\u001b[0;34m\u001b[0m\u001b[0m\n\u001b[0;32m-> 1093\u001b[0;31m         \u001b[0mself\u001b[0m\u001b[0;34m.\u001b[0m\u001b[0mendheaders\u001b[0m\u001b[0;34m(\u001b[0m\u001b[0mbody\u001b[0m\u001b[0;34m)\u001b[0m\u001b[0;34m\u001b[0m\u001b[0m\n\u001b[0m\u001b[1;32m   1094\u001b[0m \u001b[0;34m\u001b[0m\u001b[0m\n\u001b[1;32m   1095\u001b[0m     \u001b[0;32mdef\u001b[0m \u001b[0mgetresponse\u001b[0m\u001b[0;34m(\u001b[0m\u001b[0mself\u001b[0m\u001b[0;34m,\u001b[0m \u001b[0mbuffering\u001b[0m\u001b[0;34m=\u001b[0m\u001b[0mFalse\u001b[0m\u001b[0;34m)\u001b[0m\u001b[0;34m:\u001b[0m\u001b[0;34m\u001b[0m\u001b[0m\n",
      "\u001b[0;32m/System/Library/Frameworks/Python.framework/Versions/2.7/lib/python2.7/httplib.pyc\u001b[0m in \u001b[0;36mendheaders\u001b[0;34m(self, message_body)\u001b[0m\n\u001b[1;32m   1047\u001b[0m         \u001b[0;32melse\u001b[0m\u001b[0;34m:\u001b[0m\u001b[0;34m\u001b[0m\u001b[0m\n\u001b[1;32m   1048\u001b[0m             \u001b[0;32mraise\u001b[0m \u001b[0mCannotSendHeader\u001b[0m\u001b[0;34m(\u001b[0m\u001b[0;34m)\u001b[0m\u001b[0;34m\u001b[0m\u001b[0m\n\u001b[0;32m-> 1049\u001b[0;31m         \u001b[0mself\u001b[0m\u001b[0;34m.\u001b[0m\u001b[0m_send_output\u001b[0m\u001b[0;34m(\u001b[0m\u001b[0mmessage_body\u001b[0m\u001b[0;34m)\u001b[0m\u001b[0;34m\u001b[0m\u001b[0m\n\u001b[0m\u001b[1;32m   1050\u001b[0m \u001b[0;34m\u001b[0m\u001b[0m\n\u001b[1;32m   1051\u001b[0m     \u001b[0;32mdef\u001b[0m \u001b[0mrequest\u001b[0m\u001b[0;34m(\u001b[0m\u001b[0mself\u001b[0m\u001b[0;34m,\u001b[0m \u001b[0mmethod\u001b[0m\u001b[0;34m,\u001b[0m \u001b[0murl\u001b[0m\u001b[0;34m,\u001b[0m \u001b[0mbody\u001b[0m\u001b[0;34m=\u001b[0m\u001b[0mNone\u001b[0m\u001b[0;34m,\u001b[0m \u001b[0mheaders\u001b[0m\u001b[0;34m=\u001b[0m\u001b[0;34m{\u001b[0m\u001b[0;34m}\u001b[0m\u001b[0;34m)\u001b[0m\u001b[0;34m:\u001b[0m\u001b[0;34m\u001b[0m\u001b[0m\n",
      "\u001b[0;32m/System/Library/Frameworks/Python.framework/Versions/2.7/lib/python2.7/httplib.pyc\u001b[0m in \u001b[0;36m_send_output\u001b[0;34m(self, message_body)\u001b[0m\n\u001b[1;32m    891\u001b[0m             \u001b[0mmsg\u001b[0m \u001b[0;34m+=\u001b[0m \u001b[0mmessage_body\u001b[0m\u001b[0;34m\u001b[0m\u001b[0m\n\u001b[1;32m    892\u001b[0m             \u001b[0mmessage_body\u001b[0m \u001b[0;34m=\u001b[0m \u001b[0mNone\u001b[0m\u001b[0;34m\u001b[0m\u001b[0m\n\u001b[0;32m--> 893\u001b[0;31m         \u001b[0mself\u001b[0m\u001b[0;34m.\u001b[0m\u001b[0msend\u001b[0m\u001b[0;34m(\u001b[0m\u001b[0mmsg\u001b[0m\u001b[0;34m)\u001b[0m\u001b[0;34m\u001b[0m\u001b[0m\n\u001b[0m\u001b[1;32m    894\u001b[0m         \u001b[0;32mif\u001b[0m \u001b[0mmessage_body\u001b[0m \u001b[0;32mis\u001b[0m \u001b[0;32mnot\u001b[0m \u001b[0mNone\u001b[0m\u001b[0;34m:\u001b[0m\u001b[0;34m\u001b[0m\u001b[0m\n\u001b[1;32m    895\u001b[0m             \u001b[0;31m#message_body was not a string (i.e. it is a file) and\u001b[0m\u001b[0;34m\u001b[0m\u001b[0;34m\u001b[0m\u001b[0m\n",
      "\u001b[0;32m/System/Library/Frameworks/Python.framework/Versions/2.7/lib/python2.7/httplib.pyc\u001b[0m in \u001b[0;36msend\u001b[0;34m(self, data)\u001b[0m\n\u001b[1;32m    853\u001b[0m         \u001b[0;32mif\u001b[0m \u001b[0mself\u001b[0m\u001b[0;34m.\u001b[0m\u001b[0msock\u001b[0m \u001b[0;32mis\u001b[0m \u001b[0mNone\u001b[0m\u001b[0;34m:\u001b[0m\u001b[0;34m\u001b[0m\u001b[0m\n\u001b[1;32m    854\u001b[0m             \u001b[0;32mif\u001b[0m \u001b[0mself\u001b[0m\u001b[0;34m.\u001b[0m\u001b[0mauto_open\u001b[0m\u001b[0;34m:\u001b[0m\u001b[0;34m\u001b[0m\u001b[0m\n\u001b[0;32m--> 855\u001b[0;31m                 \u001b[0mself\u001b[0m\u001b[0;34m.\u001b[0m\u001b[0mconnect\u001b[0m\u001b[0;34m(\u001b[0m\u001b[0;34m)\u001b[0m\u001b[0;34m\u001b[0m\u001b[0m\n\u001b[0m\u001b[1;32m    856\u001b[0m             \u001b[0;32melse\u001b[0m\u001b[0;34m:\u001b[0m\u001b[0;34m\u001b[0m\u001b[0m\n\u001b[1;32m    857\u001b[0m                 \u001b[0;32mraise\u001b[0m \u001b[0mNotConnected\u001b[0m\u001b[0;34m(\u001b[0m\u001b[0;34m)\u001b[0m\u001b[0;34m\u001b[0m\u001b[0m\n",
      "\u001b[0;32m/Library/Python/2.7/site-packages/requests/packages/urllib3/connection.pyc\u001b[0m in \u001b[0;36mconnect\u001b[0;34m(self)\u001b[0m\n\u001b[1;32m    160\u001b[0m \u001b[0;34m\u001b[0m\u001b[0m\n\u001b[1;32m    161\u001b[0m     \u001b[0;32mdef\u001b[0m \u001b[0mconnect\u001b[0m\u001b[0;34m(\u001b[0m\u001b[0mself\u001b[0m\u001b[0;34m)\u001b[0m\u001b[0;34m:\u001b[0m\u001b[0;34m\u001b[0m\u001b[0m\n\u001b[0;32m--> 162\u001b[0;31m         \u001b[0mconn\u001b[0m \u001b[0;34m=\u001b[0m \u001b[0mself\u001b[0m\u001b[0;34m.\u001b[0m\u001b[0m_new_conn\u001b[0m\u001b[0;34m(\u001b[0m\u001b[0;34m)\u001b[0m\u001b[0;34m\u001b[0m\u001b[0m\n\u001b[0m\u001b[1;32m    163\u001b[0m         \u001b[0mself\u001b[0m\u001b[0;34m.\u001b[0m\u001b[0m_prepare_conn\u001b[0m\u001b[0;34m(\u001b[0m\u001b[0mconn\u001b[0m\u001b[0;34m)\u001b[0m\u001b[0;34m\u001b[0m\u001b[0m\n\u001b[1;32m    164\u001b[0m \u001b[0;34m\u001b[0m\u001b[0m\n",
      "\u001b[0;32m/Library/Python/2.7/site-packages/requests/packages/urllib3/connection.pyc\u001b[0m in \u001b[0;36m_new_conn\u001b[0;34m(self)\u001b[0m\n\u001b[1;32m    135\u001b[0m         \u001b[0;32mtry\u001b[0m\u001b[0;34m:\u001b[0m\u001b[0;34m\u001b[0m\u001b[0m\n\u001b[1;32m    136\u001b[0m             conn = connection.create_connection(\n\u001b[0;32m--> 137\u001b[0;31m                 (self.host, self.port), self.timeout, **extra_kw)\n\u001b[0m\u001b[1;32m    138\u001b[0m \u001b[0;34m\u001b[0m\u001b[0m\n\u001b[1;32m    139\u001b[0m         \u001b[0;32mexcept\u001b[0m \u001b[0mSocketTimeout\u001b[0m \u001b[0;32mas\u001b[0m \u001b[0me\u001b[0m\u001b[0;34m:\u001b[0m\u001b[0;34m\u001b[0m\u001b[0m\n",
      "\u001b[0;32m/Library/Python/2.7/site-packages/requests/packages/urllib3/util/connection.pyc\u001b[0m in \u001b[0;36mcreate_connection\u001b[0;34m(address, timeout, source_address, socket_options)\u001b[0m\n\u001b[1;32m     65\u001b[0m         \u001b[0mhost\u001b[0m \u001b[0;34m=\u001b[0m \u001b[0mhost\u001b[0m\u001b[0;34m.\u001b[0m\u001b[0mstrip\u001b[0m\u001b[0;34m(\u001b[0m\u001b[0;34m'[]'\u001b[0m\u001b[0;34m)\u001b[0m\u001b[0;34m\u001b[0m\u001b[0m\n\u001b[1;32m     66\u001b[0m     \u001b[0merr\u001b[0m \u001b[0;34m=\u001b[0m \u001b[0mNone\u001b[0m\u001b[0;34m\u001b[0m\u001b[0m\n\u001b[0;32m---> 67\u001b[0;31m     \u001b[0;32mfor\u001b[0m \u001b[0mres\u001b[0m \u001b[0;32min\u001b[0m \u001b[0msocket\u001b[0m\u001b[0;34m.\u001b[0m\u001b[0mgetaddrinfo\u001b[0m\u001b[0;34m(\u001b[0m\u001b[0mhost\u001b[0m\u001b[0;34m,\u001b[0m \u001b[0mport\u001b[0m\u001b[0;34m,\u001b[0m \u001b[0;36m0\u001b[0m\u001b[0;34m,\u001b[0m \u001b[0msocket\u001b[0m\u001b[0;34m.\u001b[0m\u001b[0mSOCK_STREAM\u001b[0m\u001b[0;34m)\u001b[0m\u001b[0;34m:\u001b[0m\u001b[0;34m\u001b[0m\u001b[0m\n\u001b[0m\u001b[1;32m     68\u001b[0m         \u001b[0maf\u001b[0m\u001b[0;34m,\u001b[0m \u001b[0msocktype\u001b[0m\u001b[0;34m,\u001b[0m \u001b[0mproto\u001b[0m\u001b[0;34m,\u001b[0m \u001b[0mcanonname\u001b[0m\u001b[0;34m,\u001b[0m \u001b[0msa\u001b[0m \u001b[0;34m=\u001b[0m \u001b[0mres\u001b[0m\u001b[0;34m\u001b[0m\u001b[0m\n\u001b[1;32m     69\u001b[0m         \u001b[0msock\u001b[0m \u001b[0;34m=\u001b[0m \u001b[0mNone\u001b[0m\u001b[0;34m\u001b[0m\u001b[0m\n",
      "\u001b[0;31mKeyboardInterrupt\u001b[0m: "
     ]
    }
   ],
   "source": [
    "distribution_based = {}\n",
    "max_based = {}\n",
    "for i in range(1, 201):\n",
    "    results = predict(random_recipes_test, diff_distribution, i)\n",
    "    score = get_result_test(results, random_recipes_test)\n",
    "    distribution_based[i] = score\n",
    "    print score[0], i\n",
    "    results = predict(random_recipes_test, max_country_origin, i)\n",
    "    score = get_result_test(results, random_recipes_test)\n",
    "    max_based[i] = score\n",
    "    print score[0], i"
   ]
  },
  {
   "cell_type": "code",
   "execution_count": 49,
   "metadata": {
    "collapsed": false
   },
   "outputs": [],
   "source": [
    "def to_csv(predictions):\n",
    "    f = csv.writer(open(\"results.csv\", \"wb+\"))\n",
    "    f.writerow([\"id\", \"cuisine\"])\n",
    "    for prediction in predictions:\n",
    "        f.writerow([prediction[1], prediction[0]])\n",
    "\n",
    "to_csv(results)"
   ]
  },
  {
   "cell_type": "markdown",
   "metadata": {
    "collapsed": true
   },
   "source": [
    "Elasticsearch installation\n",
    "--"
   ]
  },
  {
   "cell_type": "code",
   "execution_count": null,
   "metadata": {
    "collapsed": true
   },
   "outputs": [],
   "source": [
    "brew install elasticsearch\n",
    "brew install kibana\n",
    "kibana plugin --install elastic/sense\n",
    "elasticsearch -d\n",
    "kibana\n",
    "localhost:9200 # Elasticsearch\n",
    "http://localhost:5601/app/sense # Kibana"
   ]
  }
 ],
 "metadata": {
  "kernelspec": {
   "display_name": "Python 2",
   "language": "python",
   "name": "python2"
  },
  "language_info": {
   "codemirror_mode": {
    "name": "ipython",
    "version": 2
   },
   "file_extension": ".py",
   "mimetype": "text/x-python",
   "name": "python",
   "nbconvert_exporter": "python",
   "pygments_lexer": "ipython2",
   "version": "2.7.10"
  }
 },
 "nbformat": 4,
 "nbformat_minor": 0
}
